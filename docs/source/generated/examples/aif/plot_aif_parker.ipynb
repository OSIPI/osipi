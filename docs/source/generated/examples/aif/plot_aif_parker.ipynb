{
 "cells": [
  {
   "cell_type": "markdown",
   "metadata": {},
   "source": [
    "\n# The Parker AIF - a play with variables\n\nSimulating a Parker AIF with different settings. \n"
   ]
  },
  {
   "cell_type": "markdown",
   "metadata": {},
   "source": [
    "Import necessary packages\n\n"
   ]
  },
  {
   "cell_type": "code",
   "execution_count": null,
   "metadata": {
    "collapsed": false
   },
   "outputs": [],
   "source": [
    "import numpy as np\n",
    "import matplotlib.pyplot as plt\n",
    "import osipi"
   ]
  },
  {
   "cell_type": "markdown",
   "metadata": {},
   "source": [
    "Generate synthetic AIF with default settings and plot the result.\n\n"
   ]
  },
  {
   "cell_type": "code",
   "execution_count": null,
   "metadata": {
    "collapsed": false
   },
   "outputs": [],
   "source": [
    "# Define time points in units of seconds - in this case we use a time resolution of 0.5 sec and a total duration of 6 minutes.\n",
    "t = np.arange(0, 6 * 60, 0.5)\n",
    "\n",
    "# Create an AIF with default settings\n",
    "ca = osipi.aif_parker(t)\n",
    "\n",
    "# Plot the AIF over the full range\n",
    "plt.plot(t, ca, \"r-\")\n",
    "plt.plot(t, 0 * t, \"k-\")\n",
    "plt.xlabel(\"Time (sec)\")\n",
    "plt.ylabel(\"Plasma concentration (mM)\")\n",
    "plt.show()"
   ]
  },
  {
   "cell_type": "markdown",
   "metadata": {},
   "source": [
    "The bolus arrival time (BAT) defaults to 0s. What happens if we change it? Let's try, by changing it in steps of 30s:\n\n"
   ]
  },
  {
   "cell_type": "code",
   "execution_count": null,
   "metadata": {
    "collapsed": false
   },
   "outputs": [],
   "source": [
    "ca = osipi.aif_parker(t, BAT=0)\n",
    "plt.plot(t, ca, \"b-\", label=\"BAT = 0s\")\n",
    "ca = osipi.aif_parker(t, BAT=30)\n",
    "plt.plot(t, ca, \"r-\", label=\"BAT = 30s\")\n",
    "ca = osipi.aif_parker(t, BAT=60)\n",
    "plt.plot(t, ca, \"g-\", label=\"BAT = 60s\")\n",
    "ca = osipi.aif_parker(t, BAT=90)\n",
    "plt.plot(t, ca, \"m-\", label=\"BAT = 90s\")\n",
    "plt.xlabel(\"Time (sec)\")\n",
    "plt.ylabel(\"Plasma concentration (mM)\")\n",
    "plt.legend()\n",
    "plt.show()\n",
    "\n",
    "# Choose the last image as a thumbnail for the gallery\n",
    "# sphinx_gallery_thumbnail_number = -1"
   ]
  }
 ],
 "metadata": {
  "kernelspec": {
   "display_name": "Python 3",
   "language": "python",
   "name": "python3"
  },
  "language_info": {
   "codemirror_mode": {
    "name": "ipython",
    "version": 3
   },
   "file_extension": ".py",
   "mimetype": "text/x-python",
   "name": "python",
   "nbconvert_exporter": "python",
   "pygments_lexer": "ipython3",
   "version": "3.9.16"
  }
 },
 "nbformat": 4,
 "nbformat_minor": 0
}
