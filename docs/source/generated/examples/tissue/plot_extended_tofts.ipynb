{
 "cells": [
  {
   "cell_type": "markdown",
   "metadata": {},
   "source": [
    "\n# The Extended Tofts model\n\nSimulating tissue concentrations from extended Tofts model with different settings.\n"
   ]
  },
  {
   "cell_type": "markdown",
   "metadata": {},
   "source": [
    "Import necessary packages\n\n"
   ]
  },
  {
   "cell_type": "code",
   "execution_count": null,
   "metadata": {
    "collapsed": false
   },
   "outputs": [],
   "source": [
    "import numpy as np\n",
    "import matplotlib.pyplot as plt\n",
    "import osipi"
   ]
  },
  {
   "cell_type": "markdown",
   "metadata": {},
   "source": [
    "Generate Parker AIF with default settings.\n\n"
   ]
  },
  {
   "cell_type": "code",
   "execution_count": null,
   "metadata": {
    "collapsed": false
   },
   "outputs": [],
   "source": [
    "# Define time points in units of seconds - in this case we use a time resolution of 1 sec and a total duration of 6 minutes.\n",
    "t = np.arange(0, 6 * 60, 1)\n",
    "\n",
    "# Create an AIF with default settings\n",
    "ca = osipi.aif_parker(t)"
   ]
  },
  {
   "cell_type": "markdown",
   "metadata": {},
   "source": [
    "Plot the tissue concentrations for an extracellular volume fraction of 0.2 and 3 different plasma volumes of 0.05, 0.2 and 0.6\n\n"
   ]
  },
  {
   "cell_type": "code",
   "execution_count": null,
   "metadata": {
    "collapsed": false
   },
   "outputs": [],
   "source": [
    "Ktrans = 0.2  # in units of 1/min\n",
    "ve = 0.2  # volume fraction between 0 and 1\n",
    "vp = [0.05, 0.2, 0.6]  # volume fraction between 0 and 1\n",
    "ct = osipi.extended_tofts(t, ca, Ktrans, ve, vp[0])\n",
    "plt.plot(t, ct, \"b-\", label=f\"vp = {vp[0]}\")\n",
    "ct = osipi.extended_tofts(t, ca, Ktrans, ve, vp[1])\n",
    "plt.plot(t, ct, \"g-\", label=f\"vp = {vp[1]}\")\n",
    "ct = osipi.extended_tofts(t, ca, Ktrans, ve, vp[2])\n",
    "plt.plot(t, ct, \"m-\", label=f\"vp = {vp[2]}\")\n",
    "plt.xlabel(\"Time (sec)\")\n",
    "plt.ylabel(\"Tissue concentration (mM)\")\n",
    "plt.legend()\n",
    "plt.show()"
   ]
  },
  {
   "cell_type": "markdown",
   "metadata": {},
   "source": [
    "Comparing different discretization methods for an extracellular volume fraction of 0.2, Ktrans of 0.2 /min and vp of 0.05\n\n"
   ]
  },
  {
   "cell_type": "code",
   "execution_count": null,
   "metadata": {
    "collapsed": false
   },
   "outputs": [],
   "source": [
    "ct = osipi.extended_tofts(t, ca, Ktrans, ve, vp[0])  # Defaults to Convolution\n",
    "plt.plot(t, ct, \"b-\", label=\"Convolution\")\n",
    "ct = osipi.extended_tofts(t, ca, Ktrans, ve, vp[0], discretization_method=\"exp\")\n",
    "plt.plot(t, ct, \"g-\", label=\"Exponential Convolution\")\n",
    "plt.title(f\"Ktrans = {Ktrans} /min\")\n",
    "plt.xlabel(\"Time (sec)\")\n",
    "plt.ylabel(\"Tissue concentration (mM)\")\n",
    "plt.legend()\n",
    "plt.show()\n",
    "\n",
    "# Choose the last image as a thumbnail for the gallery\n",
    "# sphinx_gallery_thumbnail_number = -1"
   ]
  }
 ],
 "metadata": {
  "kernelspec": {
   "display_name": "Python 3",
   "language": "python",
   "name": "python3"
  },
  "language_info": {
   "codemirror_mode": {
    "name": "ipython",
    "version": 3
   },
   "file_extension": ".py",
   "mimetype": "text/x-python",
   "name": "python",
   "nbconvert_exporter": "python",
   "pygments_lexer": "ipython3",
   "version": "3.11.2"
  }
 },
 "nbformat": 4,
 "nbformat_minor": 0
}
